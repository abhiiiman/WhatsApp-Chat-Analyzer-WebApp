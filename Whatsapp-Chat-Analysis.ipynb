{
 "cells": [
  {
   "cell_type": "code",
   "metadata": {
    "collapsed": true,
    "ExecuteTime": {
     "end_time": "2024-05-26T11:59:26.613618Z",
     "start_time": "2024-05-26T11:59:25.756749Z"
    }
   },
   "source": [
    "import re\n",
    "import pandas as pd"
   ],
   "outputs": [],
   "execution_count": 1
  },
  {
   "cell_type": "code",
   "metadata": {
    "collapsed": false,
    "ExecuteTime": {
     "end_time": "2024-05-26T11:59:26.627359Z",
     "start_time": "2024-05-26T11:59:26.614773Z"
    }
   },
   "source": [
    "f = open(r\"C:\\Users\\Abhijit\\Desktop\\Chats\\WhatsApp Chat with Minor Project Buddies.txt\",'r',encoding='utf-8')"
   ],
   "outputs": [],
   "execution_count": 2
  },
  {
   "cell_type": "code",
   "metadata": {
    "collapsed": false,
    "ExecuteTime": {
     "end_time": "2024-05-26T11:59:26.633894Z",
     "start_time": "2024-05-26T11:59:26.628367Z"
    }
   },
   "source": [
    "data = f.read()"
   ],
   "outputs": [],
   "execution_count": 3
  },
  {
   "cell_type": "code",
   "metadata": {
    "collapsed": false
   },
   "source": [
    "print(data)"
   ],
   "outputs": [],
   "execution_count": null
  },
  {
   "cell_type": "code",
   "metadata": {
    "collapsed": false,
    "ExecuteTime": {
     "end_time": "2024-05-26T11:59:26.656093Z",
     "start_time": "2024-05-26T11:59:26.653168Z"
    }
   },
   "source": [
    "pattern = r'\\d{1,2}/\\d{1,2}/\\d{2,4},\\s\\d{1,2}:\\d{2}\\s[apm]{2}\\s-\\s'"
   ],
   "outputs": [],
   "execution_count": 5
  },
  {
   "cell_type": "code",
   "metadata": {
    "collapsed": false,
    "ExecuteTime": {
     "end_time": "2024-05-26T11:59:26.672568Z",
     "start_time": "2024-05-26T11:59:26.657105Z"
    }
   },
   "source": [
    "messages = re.split(pattern,data)[1:]\n",
    "len(messages)"
   ],
   "outputs": [
    {
     "data": {
      "text/plain": [
       "4133"
      ]
     },
     "execution_count": 6,
     "metadata": {},
     "output_type": "execute_result"
    }
   ],
   "execution_count": 6
  },
  {
   "cell_type": "code",
   "metadata": {
    "collapsed": false
   },
   "source": [
    "messages"
   ],
   "outputs": [],
   "execution_count": null
  },
  {
   "cell_type": "code",
   "metadata": {
    "collapsed": false,
    "ExecuteTime": {
     "end_time": "2024-05-26T11:59:26.698452Z",
     "start_time": "2024-05-26T11:59:26.687390Z"
    }
   },
   "source": [
    "dates = re.findall(pattern,data)"
   ],
   "outputs": [],
   "execution_count": 8
  },
  {
   "cell_type": "code",
   "metadata": {
    "collapsed": false
   },
   "source": [
    "dates"
   ],
   "outputs": [],
   "execution_count": null
  },
  {
   "cell_type": "code",
   "metadata": {
    "collapsed": false
   },
   "source": [
    "df = pd.DataFrame({'user_message': messages, 'message_date': dates})\n",
    "df['message_date'] = pd.to_datetime(df['message_date'], format='%d/%m/%y, %I:%M %p - ')\n",
    "df.rename(columns={'message_date': 'date'}, inplace=True)\n",
    "df.head()"
   ],
   "outputs": [],
   "execution_count": null
  },
  {
   "cell_type": "code",
   "metadata": {
    "collapsed": false,
    "ExecuteTime": {
     "end_time": "2024-05-26T11:59:26.755076Z",
     "start_time": "2024-05-26T11:59:26.749572Z"
    }
   },
   "source": [
    "df.shape"
   ],
   "outputs": [
    {
     "data": {
      "text/plain": [
       "(4133, 2)"
      ]
     },
     "execution_count": 11,
     "metadata": {},
     "output_type": "execute_result"
    }
   ],
   "execution_count": 11
  },
  {
   "cell_type": "code",
   "metadata": {
    "collapsed": false
   },
   "source": [
    "users = []\n",
    "messages = []\n",
    "for message in df['user_message']:\n",
    "    entry = re.split('([\\w\\W]+?):\\s',message)\n",
    "    if entry[1:]:\n",
    "        users.append(entry[1])\n",
    "        messages.append(entry[2])\n",
    "    else:\n",
    "        users.append('group_notification')\n",
    "        messages.append(entry[0])\n",
    "\n",
    "df['user'] = users\n",
    "df['message'] = messages\n",
    "df.drop(columns=['user_message'], inplace=True)\n",
    "\n",
    "df.head()"
   ],
   "outputs": [],
   "execution_count": null
  },
  {
   "cell_type": "code",
   "metadata": {
    "collapsed": false,
    "ExecuteTime": {
     "end_time": "2024-05-26T11:59:27.663676Z",
     "start_time": "2024-05-26T11:59:27.658991Z"
    }
   },
   "source": [
    "df['year'] = df['date'].dt.year"
   ],
   "outputs": [],
   "execution_count": 13
  },
  {
   "cell_type": "code",
   "metadata": {
    "collapsed": false
   },
   "source": [
    "df"
   ],
   "outputs": [],
   "execution_count": null
  },
  {
   "cell_type": "code",
   "metadata": {
    "collapsed": false,
    "ExecuteTime": {
     "end_time": "2024-05-26T11:59:27.678211Z",
     "start_time": "2024-05-26T11:59:27.674316Z"
    }
   },
   "source": [
    "df['month'] = df['date'].dt.month_name()"
   ],
   "outputs": [],
   "execution_count": 15
  },
  {
   "cell_type": "code",
   "metadata": {
    "collapsed": false
   },
   "source": [
    "df"
   ],
   "outputs": [],
   "execution_count": null
  },
  {
   "cell_type": "code",
   "metadata": {
    "collapsed": false,
    "ExecuteTime": {
     "end_time": "2024-05-26T11:59:27.700139Z",
     "start_time": "2024-05-26T11:59:27.694586Z"
    }
   },
   "source": [
    "df['day'] = df['date'].dt.day"
   ],
   "outputs": [],
   "execution_count": 17
  },
  {
   "cell_type": "code",
   "metadata": {
    "collapsed": false
   },
   "source": [
    "df"
   ],
   "outputs": [],
   "execution_count": null
  },
  {
   "cell_type": "code",
   "metadata": {
    "collapsed": false
   },
   "source": [
    "df['hour'] = df['date'].dt.hour\n",
    "df['minute'] = df['date'].dt.minute\n",
    "df.head()"
   ],
   "outputs": [],
   "execution_count": null
  },
  {
   "cell_type": "code",
   "metadata": {
    "collapsed": false
   },
   "source": [
    "words = []\n",
    "for message in df['message']:\n",
    "    words.extend(message.split())\n",
    "\n",
    "words"
   ],
   "outputs": [],
   "execution_count": null
  },
  {
   "cell_type": "code",
   "metadata": {
    "collapsed": false,
    "ExecuteTime": {
     "end_time": "2024-05-26T11:59:27.740997Z",
     "start_time": "2024-05-26T11:59:27.733032Z"
    }
   },
   "source": [
    "temp = df[df['user'] != 'group_notification']\n",
    "temp = temp[temp['message'] != '<Media omitted>\\n']"
   ],
   "outputs": [],
   "execution_count": 21
  },
  {
   "cell_type": "code",
   "metadata": {
    "collapsed": false
   },
   "source": [
    "temp"
   ],
   "outputs": [],
   "execution_count": null
  }
 ],
 "metadata": {
  "kernelspec": {
   "display_name": "Python 3",
   "language": "python",
   "name": "python3"
  },
  "language_info": {
   "codemirror_mode": {
    "name": "ipython",
    "version": 3
   },
   "file_extension": ".py",
   "mimetype": "text/x-python",
   "name": "python",
   "nbconvert_exporter": "python",
   "pygments_lexer": "ipython3",
   "version": "3.12.3"
  }
 },
 "nbformat": 4,
 "nbformat_minor": 0
}
